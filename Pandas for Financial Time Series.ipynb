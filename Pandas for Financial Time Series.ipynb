{
 "cells": [
  {
   "cell_type": "code",
   "execution_count": 63,
   "id": "cefdbc4f-bd9b-4a96-9b9e-95b28fecf450",
   "metadata": {},
   "outputs": [
    {
     "name": "stderr",
     "output_type": "stream",
     "text": [
      "/var/folders/tc/3wfpy3sn34v9f5ylzj41xkdm0000gn/T/ipykernel_46961/261729296.py:10: FutureWarning: YF.download() has changed argument auto_adjust default to True\n",
      "  data = yf.download(ticker,start='2000-01-01', end='2025-09-18')\n",
      "[*********************100%***********************]  1 of 1 completed\n"
     ]
    },
    {
     "data": {
      "text/html": [
       "<div>\n",
       "<style scoped>\n",
       "    .dataframe tbody tr th:only-of-type {\n",
       "        vertical-align: middle;\n",
       "    }\n",
       "\n",
       "    .dataframe tbody tr th {\n",
       "        vertical-align: top;\n",
       "    }\n",
       "\n",
       "    .dataframe thead tr th {\n",
       "        text-align: left;\n",
       "    }\n",
       "\n",
       "    .dataframe thead tr:last-of-type th {\n",
       "        text-align: right;\n",
       "    }\n",
       "</style>\n",
       "<table border=\"1\" class=\"dataframe\">\n",
       "  <thead>\n",
       "    <tr>\n",
       "      <th>Price</th>\n",
       "      <th>Close</th>\n",
       "      <th>High</th>\n",
       "      <th>Low</th>\n",
       "      <th>Open</th>\n",
       "      <th>Volume</th>\n",
       "    </tr>\n",
       "    <tr>\n",
       "      <th>Ticker</th>\n",
       "      <th>ES=F</th>\n",
       "      <th>ES=F</th>\n",
       "      <th>ES=F</th>\n",
       "      <th>ES=F</th>\n",
       "      <th>ES=F</th>\n",
       "    </tr>\n",
       "    <tr>\n",
       "      <th>Date</th>\n",
       "      <th></th>\n",
       "      <th></th>\n",
       "      <th></th>\n",
       "      <th></th>\n",
       "      <th></th>\n",
       "    </tr>\n",
       "  </thead>\n",
       "  <tbody>\n",
       "    <tr>\n",
       "      <th>2000-09-18</th>\n",
       "      <td>1467.50</td>\n",
       "      <td>1489.75</td>\n",
       "      <td>1462.25</td>\n",
       "      <td>1485.25</td>\n",
       "      <td>104794</td>\n",
       "    </tr>\n",
       "    <tr>\n",
       "      <th>2000-09-19</th>\n",
       "      <td>1478.50</td>\n",
       "      <td>1482.75</td>\n",
       "      <td>1466.75</td>\n",
       "      <td>1467.00</td>\n",
       "      <td>103371</td>\n",
       "    </tr>\n",
       "    <tr>\n",
       "      <th>2000-09-20</th>\n",
       "      <td>1469.50</td>\n",
       "      <td>1480.50</td>\n",
       "      <td>1450.25</td>\n",
       "      <td>1478.75</td>\n",
       "      <td>109667</td>\n",
       "    </tr>\n",
       "    <tr>\n",
       "      <th>2000-09-21</th>\n",
       "      <td>1469.50</td>\n",
       "      <td>1474.00</td>\n",
       "      <td>1455.50</td>\n",
       "      <td>1470.25</td>\n",
       "      <td>98528</td>\n",
       "    </tr>\n",
       "    <tr>\n",
       "      <th>2000-09-22</th>\n",
       "      <td>1468.50</td>\n",
       "      <td>1471.00</td>\n",
       "      <td>1436.75</td>\n",
       "      <td>1454.75</td>\n",
       "      <td>97416</td>\n",
       "    </tr>\n",
       "    <tr>\n",
       "      <th>2000-09-25</th>\n",
       "      <td>1461.00</td>\n",
       "      <td>1477.75</td>\n",
       "      <td>1455.50</td>\n",
       "      <td>1469.50</td>\n",
       "      <td>85491</td>\n",
       "    </tr>\n",
       "    <tr>\n",
       "      <th>2000-09-26</th>\n",
       "      <td>1443.00</td>\n",
       "      <td>1467.00</td>\n",
       "      <td>1442.50</td>\n",
       "      <td>1461.00</td>\n",
       "      <td>99803</td>\n",
       "    </tr>\n",
       "    <tr>\n",
       "      <th>2000-09-27</th>\n",
       "      <td>1446.75</td>\n",
       "      <td>1456.00</td>\n",
       "      <td>1438.25</td>\n",
       "      <td>1444.00</td>\n",
       "      <td>101996</td>\n",
       "    </tr>\n",
       "    <tr>\n",
       "      <th>2000-09-28</th>\n",
       "      <td>1476.00</td>\n",
       "      <td>1481.00</td>\n",
       "      <td>1445.00</td>\n",
       "      <td>1447.75</td>\n",
       "      <td>84280</td>\n",
       "    </tr>\n",
       "    <tr>\n",
       "      <th>2000-09-29</th>\n",
       "      <td>1454.00</td>\n",
       "      <td>1473.25</td>\n",
       "      <td>1454.00</td>\n",
       "      <td>1473.00</td>\n",
       "      <td>78277</td>\n",
       "    </tr>\n",
       "  </tbody>\n",
       "</table>\n",
       "</div>"
      ],
      "text/plain": [
       "Price         Close     High      Low     Open  Volume\n",
       "Ticker         ES=F     ES=F     ES=F     ES=F    ES=F\n",
       "Date                                                  \n",
       "2000-09-18  1467.50  1489.75  1462.25  1485.25  104794\n",
       "2000-09-19  1478.50  1482.75  1466.75  1467.00  103371\n",
       "2000-09-20  1469.50  1480.50  1450.25  1478.75  109667\n",
       "2000-09-21  1469.50  1474.00  1455.50  1470.25   98528\n",
       "2000-09-22  1468.50  1471.00  1436.75  1454.75   97416\n",
       "2000-09-25  1461.00  1477.75  1455.50  1469.50   85491\n",
       "2000-09-26  1443.00  1467.00  1442.50  1461.00   99803\n",
       "2000-09-27  1446.75  1456.00  1438.25  1444.00  101996\n",
       "2000-09-28  1476.00  1481.00  1445.00  1447.75   84280\n",
       "2000-09-29  1454.00  1473.25  1454.00  1473.00   78277"
      ]
     },
     "execution_count": 63,
     "metadata": {},
     "output_type": "execute_result"
    }
   ],
   "source": [
    "import yfinance as yf\n",
    "import pandas as pd\n",
    "import matplotlib.pyplot as plt\n",
    "import numpy as np\n",
    "# Define the ticker symbol\n",
    "ticker = \"ES=F\"\n",
    "\n",
    "# S&P 500 Futures financial information\n",
    "# January 1, 2025 to today\n",
    "data = yf.download(ticker,start='2000-01-01', end='2025-09-18')\n",
    "data.head(10)"
   ]
  },
  {
   "cell_type": "code",
   "execution_count": 3,
   "id": "baaa2664-2414-4b5a-9cf6-1a9d49eb70f7",
   "metadata": {},
   "outputs": [
    {
     "data": {
      "text/plain": [
       "pandas.core.frame.DataFrame"
      ]
     },
     "execution_count": 3,
     "metadata": {},
     "output_type": "execute_result"
    }
   ],
   "source": [
    "type(data) "
   ]
  },
  {
   "cell_type": "code",
   "execution_count": 4,
   "id": "1fe19a39-1aa9-4f0d-9272-b9f00480fd4e",
   "metadata": {},
   "outputs": [],
   "source": [
    "# Grabbing a specific column and giving it a new title\n",
    "SP_close = data['Close']['ES=F']"
   ]
  },
  {
   "cell_type": "code",
   "execution_count": 5,
   "id": "7c2700f7-dcf3-4a9e-b91e-79dd092501d7",
   "metadata": {},
   "outputs": [
    {
     "data": {
      "text/plain": [
       "pandas.core.series.Series"
      ]
     },
     "execution_count": 5,
     "metadata": {},
     "output_type": "execute_result"
    }
   ],
   "source": [
    "type(SP_close)"
   ]
  },
  {
   "cell_type": "code",
   "execution_count": 6,
   "id": "5b73fdb9-856e-4412-a76b-1696350f6beb",
   "metadata": {},
   "outputs": [
    {
     "data": {
      "text/plain": [
       "Date\n",
       "2000-09-18    1467.5\n",
       "2000-09-19    1478.5\n",
       "2000-09-20    1469.5\n",
       "2000-09-21    1469.5\n",
       "2000-09-22    1468.5\n",
       "Name: ES=F, dtype: float64"
      ]
     },
     "execution_count": 6,
     "metadata": {},
     "output_type": "execute_result"
    }
   ],
   "source": [
    "SP_close.head()"
   ]
  },
  {
   "cell_type": "code",
   "execution_count": 7,
   "id": "3bfcb9a0-b947-4c2c-9d10-ea3c41d26574",
   "metadata": {},
   "outputs": [
    {
     "data": {
      "text/plain": [
       "Date\n",
       "2025-09-11    6592.50\n",
       "2025-09-12    6588.25\n",
       "2025-09-15    6621.50\n",
       "2025-09-16    6610.75\n",
       "2025-09-17    6601.25\n",
       "Name: ES=F, dtype: float64"
      ]
     },
     "execution_count": 7,
     "metadata": {},
     "output_type": "execute_result"
    }
   ],
   "source": [
    "SP_close.tail()"
   ]
  },
  {
   "cell_type": "code",
   "execution_count": 8,
   "id": "8054bb12-919c-466c-9c50-8f48ea008c63",
   "metadata": {},
   "outputs": [
    {
     "data": {
      "text/plain": [
       "DatetimeIndex(['2000-09-18', '2000-09-19', '2000-09-20', '2000-09-21',\n",
       "               '2000-09-22', '2000-09-25', '2000-09-26', '2000-09-27',\n",
       "               '2000-09-28', '2000-09-29',\n",
       "               ...\n",
       "               '2025-09-04', '2025-09-05', '2025-09-08', '2025-09-09',\n",
       "               '2025-09-10', '2025-09-11', '2025-09-12', '2025-09-15',\n",
       "               '2025-09-16', '2025-09-17'],\n",
       "              dtype='datetime64[ns]', name='Date', length=6313, freq=None)"
      ]
     },
     "execution_count": 8,
     "metadata": {},
     "output_type": "execute_result"
    }
   ],
   "source": [
    "SP_close.index"
   ]
  },
  {
   "cell_type": "code",
   "execution_count": 9,
   "id": "ee59ac89-ee6f-4788-b6a2-49c56f612adf",
   "metadata": {
    "scrolled": true
   },
   "outputs": [
    {
     "data": {
      "text/plain": [
       "<Axes: xlabel='Date'>"
      ]
     },
     "execution_count": 9,
     "metadata": {},
     "output_type": "execute_result"
    },
    {
     "data": {
      "image/png": "[encoded data removed]",
      "text/plain": [
       "<Figure size 640x480 with 1 Axes>"
      ]
     },
     "metadata": {},
     "output_type": "display_data"
    }
   ],
   "source": [
    "SP_close.plot()"
   ]
  },
  {
   "cell_type": "code",
   "execution_count": 19,
   "id": "f05521f0-9395-4129-b62c-2313ab670289",
   "metadata": {},
   "outputs": [
    {
     "data": {
      "text/plain": [
       "Date\n",
       "2000-09-18    1467.50\n",
       "2000-09-19    1478.50\n",
       "2000-09-20    1469.50\n",
       "2000-09-21    1469.50\n",
       "2000-09-22    1468.50\n",
       "2000-09-25    1461.00\n",
       "2000-09-26    1443.00\n",
       "2000-09-27    1446.75\n",
       "2000-09-28    1476.00\n",
       "2000-09-29    1454.00\n",
       "Name: ES=F, dtype: float64"
      ]
     },
     "execution_count": 19,
     "metadata": {},
     "output_type": "execute_result"
    }
   ],
   "source": [
    "SP_close.head(10)"
   ]
  },
  {
   "cell_type": "code",
   "execution_count": 25,
   "id": "614b413f-2837-47fd-a4d3-c3b2917336e5",
   "metadata": {},
   "outputs": [
    {
     "data": {
      "text/plain": [
       "np.float64(1469.5)"
      ]
     },
     "execution_count": 25,
     "metadata": {},
     "output_type": "execute_result"
    }
   ],
   "source": [
    "SP_close[\"2000-09-20\"]"
   ]
  },
  {
   "cell_type": "code",
   "execution_count": 41,
   "id": "1278d6a5-deb2-4a3d-a32d-e8259c3af59b",
   "metadata": {},
   "outputs": [],
   "source": [
    "# Grabbing a specific Data range from the set\n",
    "SP_close_24to25 = SP_close[\"20240101\" : \"20250918\"]"
   ]
  },
  {
   "cell_type": "code",
   "execution_count": 45,
   "id": "b3b62b25-626d-4eae-8637-de42e0dc1a97",
   "metadata": {},
   "outputs": [
    {
     "data": {
      "text/plain": [
       "Date\n",
       "2024-01-02    4787.25\n",
       "2024-01-03    4746.50\n",
       "2024-01-04    4729.50\n",
       "2024-01-05    4734.75\n",
       "2024-01-08    4801.25\n",
       "Name: ES=F, dtype: float64"
      ]
     },
     "execution_count": 45,
     "metadata": {},
     "output_type": "execute_result"
    }
   ],
   "source": [
    "SP_close_24to25.head()"
   ]
  },
  {
   "cell_type": "code",
   "execution_count": 47,
   "id": "be18c46b-f993-496c-8e02-e9e15a87251b",
   "metadata": {},
   "outputs": [
    {
     "data": {
      "text/plain": [
       "Date\n",
       "2025-09-11    6592.50\n",
       "2025-09-12    6588.25\n",
       "2025-09-15    6621.50\n",
       "2025-09-16    6610.75\n",
       "2025-09-17    6601.25\n",
       "Name: ES=F, dtype: float64"
      ]
     },
     "execution_count": 47,
     "metadata": {},
     "output_type": "execute_result"
    }
   ],
   "source": [
    "SP_close_24to25.tail()"
   ]
  },
  {
   "cell_type": "code",
   "execution_count": 51,
   "id": "5ef50385-f20d-4ee5-82e7-4d744e1a2e52",
   "metadata": {},
   "outputs": [
    {
     "data": {
      "text/plain": [
       "<Axes: xlabel='Date'>"
      ]
     },
     "execution_count": 51,
     "metadata": {},
     "output_type": "execute_result"
    },
    {
     "data": {
      "image/png": "[encoded data removed]",
      "text/plain": [
       "<Figure size 640x480 with 1 Axes>"
      ]
     },
     "metadata": {},
     "output_type": "display_data"
    }
   ],
   "source": [
    "SP_close_24to25.plot()"
   ]
  },
  {
   "cell_type": "code",
   "execution_count": 53,
   "id": "4d114efa-6958-4168-96d8-a5e071da87e5",
   "metadata": {},
   "outputs": [
    {
     "data": {
      "text/plain": [
       "Date\n",
       "2000-09-18    1467.5\n",
       "2000-09-19    1478.5\n",
       "2000-09-20    1469.5\n",
       "2000-09-21    1469.5\n",
       "2000-09-22    1468.5\n",
       "Name: ES=F, dtype: float64"
      ]
     },
     "execution_count": 53,
     "metadata": {},
     "output_type": "execute_result"
    }
   ],
   "source": [
    "SP_close.head()"
   ]
  },
  {
   "cell_type": "code",
   "execution_count": 73,
   "id": "2ae0b7ed-cdfa-4874-af94-5e1998e47941",
   "metadata": {},
   "outputs": [
    {
     "data": {
      "text/plain": [
       "Date\n",
       "2000-09-18        NaN\n",
       "2000-09-19    1467.50\n",
       "2000-09-20    1478.50\n",
       "2000-09-21    1469.50\n",
       "2000-09-22    1469.50\n",
       "               ...   \n",
       "2025-09-11    6539.75\n",
       "2025-09-12    6592.50\n",
       "2025-09-15    6588.25\n",
       "2025-09-16    6621.50\n",
       "2025-09-17    6610.75\n",
       "Name: ES=F, Length: 6313, dtype: float64"
      ]
     },
     "execution_count": 73,
     "metadata": {},
     "output_type": "execute_result"
    }
   ],
   "source": [
    "# .shift(1) aligns each value with the previous day's Close (needed for return calculation)\n",
    "SP_close.shift()"
   ]
  },
  {
   "cell_type": "code",
   "execution_count": 81,
   "id": "6ab5f700-293f-4422-913c-56a9340ffce7",
   "metadata": {},
   "outputs": [],
   "source": [
    "# Calculate daily log returns (%): compares today's Close to the previous day's using .shift(1)\n",
    "SP_returns = 100 * np.log(SP_close/SP_close.shift(1))"
   ]
  },
  {
   "cell_type": "code",
   "execution_count": 83,
   "id": "ed5782e8-4d7c-4817-a96c-94a62a775651",
   "metadata": {},
   "outputs": [
    {
     "data": {
      "text/plain": [
       "Date\n",
       "2000-09-18         NaN\n",
       "2000-09-19    0.746779\n",
       "2000-09-20   -0.610585\n",
       "2000-09-21    0.000000\n",
       "2000-09-22   -0.068074\n",
       "2000-09-25   -0.512034\n",
       "2000-09-26   -1.239685\n",
       "2000-09-27    0.259538\n",
       "2000-09-28    2.001606\n",
       "2000-09-29   -1.501735\n",
       "Name: ES=F, dtype: float64"
      ]
     },
     "execution_count": 83,
     "metadata": {},
     "output_type": "execute_result"
    }
   ],
   "source": [
    "SP_returns.head(10)"
   ]
  },
  {
   "cell_type": "code",
   "execution_count": 85,
   "id": "6bccec7d-0dd0-4f6c-9bdd-7d9ad6962144",
   "metadata": {},
   "outputs": [
    {
     "data": {
      "text/plain": [
       "<Axes: xlabel='Date'>"
      ]
     },
     "execution_count": 85,
     "metadata": {},
     "output_type": "execute_result"
    },
    {
     "data": {
      "image/png": "[encoded data removed]",
      "text/plain": [
       "<Figure size 640x480 with 1 Axes>"
      ]
     },
     "metadata": {},
     "output_type": "display_data"
    }
   ],
   "source": [
    "SP_returns.plot()"
   ]
  },
  {
   "cell_type": "code",
   "execution_count": null,
   "id": "ef137550-9fc0-4f65-8342-474174e1af9c",
   "metadata": {},
   "outputs": [],
   "source": []
  }
 ],
 "metadata": {
  "kernelspec": {
   "display_name": "Python (my-quant-stack)",
   "language": "python",
   "name": "my-quant-stack"
  },
  "language_info": {
   "codemirror_mode": {
    "name": "ipython",
    "version": 3
   },
   "file_extension": ".py",
   "mimetype": "text/x-python",
   "name": "python",
   "nbconvert_exporter": "python",
   "pygments_lexer": "ipython3",
   "version": "3.10.14"
  }
 },
 "nbformat": 4,
 "nbformat_minor": 5
}
